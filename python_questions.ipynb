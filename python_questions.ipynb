{
 "cells": [
  {
   "cell_type": "code",
   "execution_count": null,
   "metadata": {},
   "outputs": [
    {
     "name": "stdout",
     "output_type": "stream",
     "text": [
      "[70, 20, 30, 40, 50, 60, 10]\n"
     ]
    }
   ],
   "source": [
    "# reverse a array - Method 1\n",
    "\n",
    "arr = [10,20,30,40,50,60,70]\n",
    "\n",
    "def reverse_array(a,n):\n",
    "    for i in range(0,n-1):\n",
    "        temp=a[i]\n",
    "        a[i]=a[n-1-i]\n",
    "        a[n-1-i]=temp\n",
    "    return a    \n",
    "\n",
    "print(reverse_array(arr,len(arr)))"
   ]
  },
  {
   "cell_type": "markdown",
   "metadata": {},
   "source": []
  },
  {
   "cell_type": "code",
   "execution_count": null,
   "metadata": {},
   "outputs": [
    {
     "name": "stdout",
     "output_type": "stream",
     "text": [
      "[70, 60, 50, 40, 30, 20, 10]\n"
     ]
    }
   ],
   "source": [
    "# Reverse a array - Method 2 - copying values to new array\n",
    "arr2=[10,20,30,40,50,60,70]\n",
    "def reverse_array(a1,n):\n",
    "    a2=[]\n",
    "    for i in range(n-1,-1,-1):\n",
    "            a2.append(a1[i])\n",
    "    return a2\n",
    "\n",
    "print(reverse_array(arr2,len(arr)))        "
   ]
  },
  {
   "cell_type": "code",
   "execution_count": 22,
   "metadata": {},
   "outputs": [
    {
     "name": "stdout",
     "output_type": "stream",
     "text": [
      "[40, 50, 60, 70, 10, 20, 30]\n"
     ]
    }
   ],
   "source": [
    "#Reverse an array - Method 3 - rotating the array d times\n",
    "arr3 = [10,20,30,40,50,60,70]\n",
    "\n",
    "def reverse_array(a2,n,d):\n",
    "    for i in range(d):\n",
    "        temp = a2[0]\n",
    "        for j in range(0,n-1):\n",
    "            a2[j]=a2[j+1]   \n",
    "        a2[n-1]=temp\n",
    "        \n",
    "    return a2\n",
    "\n",
    "print(reverse_array(arr3,len(arr3),3)) "
   ]
  },
  {
   "cell_type": "code",
   "execution_count": 66,
   "metadata": {},
   "outputs": [
    {
     "name": "stdout",
     "output_type": "stream",
     "text": [
      "[[1], [1, 2], [1, 2, 3], [2], [2, 3], [3]]\n"
     ]
    }
   ],
   "source": [
    "arr = [1,2,3]\n",
    "def subarray(a,l):\n",
    "    x = []\n",
    "    y = []\n",
    "    for i in range(0,l):\n",
    "        for j in range(i,l):\n",
    "            x.append(a[i:j+1])               \n",
    "    print(x)\n",
    "\n",
    "subarray(arr,len(arr))            "
   ]
  },
  {
   "cell_type": "code",
   "execution_count": 75,
   "metadata": {},
   "outputs": [
    {
     "name": "stdout",
     "output_type": "stream",
     "text": [
      "False\n"
     ]
    }
   ],
   "source": [
    "# Finding an element in an array\n",
    "arr = [66,71,23,45,87,49,50]\n",
    "def find_element(a,l,x):\n",
    "    for i in range(l):\n",
    "        if a[i]==x:\n",
    "            return(i+1)\n",
    "\n",
    "    return False\n",
    "\n",
    "print(find_element(arr,len(arr),46))      "
   ]
  },
  {
   "cell_type": "code",
   "execution_count": 81,
   "metadata": {},
   "outputs": [
    {
     "name": "stdout",
     "output_type": "stream",
     "text": [
      "Minimum element is :  5\n",
      "Maximum element is :  72\n"
     ]
    }
   ],
   "source": [
    "# Finding the largest and smallest element of an array\n",
    "arr = [45,22,12,37,5,32,72]\n",
    "def min_element(a,l):\n",
    "    min=a[0]\n",
    "    for i in range(l-1):\n",
    "        if min>a[i+1]:\n",
    "            min = a[i+1]\n",
    "    return min \n",
    "\n",
    "\n",
    "def max_element(a,l):\n",
    "    max = a[0]\n",
    "    for j in range(l-1):\n",
    "        if max<a[j+1]:\n",
    "            max = a[j+1]\n",
    "    return max    \n",
    "\n",
    "\n",
    "print(\"Minimum element is : \",min_element(arr,len(arr)))    \n",
    "print(\"Maximum element is : \",max_element(arr,len(arr)))   "
   ]
  },
  {
   "cell_type": "code",
   "execution_count": 87,
   "metadata": {},
   "outputs": [
    {
     "name": "stdout",
     "output_type": "stream",
     "text": [
      "Second largest element :  45\n"
     ]
    }
   ],
   "source": [
    "# Bubble sort to find nth largest element\n",
    "arr = [45,22,12,37,5,32,72]\n",
    "def bubble_sort(a,x):\n",
    "    for i in range(len(a)):\n",
    "        for j in range (len(a)-1):\n",
    "            if a[j]<a[j+1]:\n",
    "                a[j],a[j+1]=a[j+1],a[j]\n",
    "    \n",
    "    return a[x-1]\n",
    "\n",
    "print(\"Second largest element : \",bubble_sort(arr,2))        "
   ]
  },
  {
   "cell_type": "code",
   "execution_count": null,
   "metadata": {},
   "outputs": [],
   "source": []
  },
  {
   "cell_type": "code",
   "execution_count": null,
   "metadata": {},
   "outputs": [],
   "source": []
  },
  {
   "cell_type": "code",
   "execution_count": null,
   "metadata": {},
   "outputs": [],
   "source": []
  },
  {
   "cell_type": "code",
   "execution_count": null,
   "metadata": {},
   "outputs": [],
   "source": []
  },
  {
   "cell_type": "code",
   "execution_count": null,
   "metadata": {},
   "outputs": [],
   "source": []
  },
  {
   "cell_type": "code",
   "execution_count": null,
   "metadata": {},
   "outputs": [],
   "source": []
  }
 ],
 "metadata": {
  "kernelspec": {
   "display_name": "Python 3",
   "language": "python",
   "name": "python3"
  },
  "language_info": {
   "codemirror_mode": {
    "name": "ipython",
    "version": 3
   },
   "file_extension": ".py",
   "mimetype": "text/x-python",
   "name": "python",
   "nbconvert_exporter": "python",
   "pygments_lexer": "ipython3",
   "version": "3.13.0"
  }
 },
 "nbformat": 4,
 "nbformat_minor": 2
}
