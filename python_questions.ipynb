{
 "cells": [
  {
   "cell_type": "code",
   "execution_count": null,
   "metadata": {},
   "outputs": [
    {
     "name": "stdout",
     "output_type": "stream",
     "text": [
      "[70, 20, 30, 40, 50, 60, 10]\n"
     ]
    }
   ],
   "source": [
    "# reverse a array - Method 1\n",
    "\n",
    "arr = [10,20,30,40,50,60,70]\n",
    "\n",
    "def reverse_array(a,n):\n",
    "    for i in range(0,n-1):\n",
    "        temp=a[i]\n",
    "        a[i]=a[n-1-i]\n",
    "        a[n-1-i]=temp\n",
    "    return a    \n",
    "\n",
    "print(reverse_array(arr,len(arr)))"
   ]
  },
  {
   "cell_type": "markdown",
   "metadata": {},
   "source": []
  },
  {
   "cell_type": "code",
   "execution_count": null,
   "metadata": {},
   "outputs": [
    {
     "name": "stdout",
     "output_type": "stream",
     "text": [
      "[70, 60, 50, 40, 30, 20, 10]\n"
     ]
    }
   ],
   "source": [
    "# Reverse a array - Method 2 - copying values to new array\n",
    "arr2=[10,20,30,40,50,60,70]\n",
    "def reverse_array(a1,n):\n",
    "    a2=[]\n",
    "    for i in range(n-1,-1,-1):\n",
    "            a2.append(a1[i])\n",
    "    return a2\n",
    "\n",
    "print(reverse_array(arr2,len(arr)))        "
   ]
  },
  {
   "cell_type": "code",
   "execution_count": 22,
   "metadata": {},
   "outputs": [
    {
     "name": "stdout",
     "output_type": "stream",
     "text": [
      "[40, 50, 60, 70, 10, 20, 30]\n"
     ]
    }
   ],
   "source": [
    "#Reverse an array - Method 3 - rotating the array d times\n",
    "arr3 = [10,20,30,40,50,60,70]\n",
    "\n",
    "def reverse_array(a2,n,d):\n",
    "    for i in range(d):\n",
    "        temp = a2[0]\n",
    "        for j in range(0,n-1):\n",
    "            a2[j]=a2[j+1]   \n",
    "        a2[n-1]=temp\n",
    "        \n",
    "    return a2\n",
    "\n",
    "print(reverse_array(arr3,len(arr3),3)) "
   ]
  },
  {
   "cell_type": "code",
   "execution_count": 66,
   "metadata": {},
   "outputs": [
    {
     "name": "stdout",
     "output_type": "stream",
     "text": [
      "[[1], [1, 2], [1, 2, 3], [2], [2, 3], [3]]\n"
     ]
    }
   ],
   "source": [
    "arr = [1,2,3]\n",
    "def subarray(a,l):\n",
    "    x = []\n",
    "    y = []\n",
    "    for i in range(0,l):\n",
    "        for j in range(i,l):\n",
    "            x.append(a[i:j+1])               \n",
    "    print(x)\n",
    "\n",
    "subarray(arr,len(arr))            "
   ]
  },
  {
   "cell_type": "code",
   "execution_count": null,
   "metadata": {},
   "outputs": [],
   "source": []
  },
  {
   "cell_type": "code",
   "execution_count": null,
   "metadata": {},
   "outputs": [],
   "source": []
  },
  {
   "cell_type": "code",
   "execution_count": null,
   "metadata": {},
   "outputs": [],
   "source": []
  },
  {
   "cell_type": "code",
   "execution_count": null,
   "metadata": {},
   "outputs": [],
   "source": []
  },
  {
   "cell_type": "code",
   "execution_count": null,
   "metadata": {},
   "outputs": [],
   "source": []
  },
  {
   "cell_type": "code",
   "execution_count": null,
   "metadata": {},
   "outputs": [],
   "source": []
  },
  {
   "cell_type": "code",
   "execution_count": null,
   "metadata": {},
   "outputs": [],
   "source": []
  },
  {
   "cell_type": "code",
   "execution_count": null,
   "metadata": {},
   "outputs": [],
   "source": []
  },
  {
   "cell_type": "code",
   "execution_count": null,
   "metadata": {},
   "outputs": [],
   "source": []
  }
 ],
 "metadata": {
  "kernelspec": {
   "display_name": "Python 3",
   "language": "python",
   "name": "python3"
  },
  "language_info": {
   "codemirror_mode": {
    "name": "ipython",
    "version": 3
   },
   "file_extension": ".py",
   "mimetype": "text/x-python",
   "name": "python",
   "nbconvert_exporter": "python",
   "pygments_lexer": "ipython3",
   "version": "3.13.0"
  }
 },
 "nbformat": 4,
 "nbformat_minor": 2
}
